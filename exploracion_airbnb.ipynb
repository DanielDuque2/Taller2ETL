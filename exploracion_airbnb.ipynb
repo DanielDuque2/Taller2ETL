{
 "cells": [
  {
   "cell_type": "markdown",
   "id": "3c14175e",
   "metadata": {},
   "source": [
    "Importación de librerias y seteo de variables constantes"
   ]
  },
  {
   "cell_type": "code",
   "execution_count": null,
   "id": "07e3f17e",
   "metadata": {},
   "outputs": [],
   "source": [
    "import pandas as pd\n",
    "from extraccion import Extraccion\n",
    "from bson.decimal128 import Decimal128\n",
    "import matplotlib.pyplot as plt\n",
    "\n",
    "URL = \"mongodb://localhost:27017/\"\n",
    "DATABASE_NAME = \"AirBnbDB\""
   ]
  },
  {
   "cell_type": "markdown",
   "id": "35b44178",
   "metadata": {},
   "source": [
    "Creación de instancia de la clase Extracción y lectura de colecciones para almacenamiento en dataframe"
   ]
  },
  {
   "cell_type": "code",
   "execution_count": null,
   "id": "6fd056c8",
   "metadata": {},
   "outputs": [],
   "source": [
    "extraccion = Extraccion(URL, DATABASE_NAME)\n",
    "extraccion.conectar()"
   ]
  },
  {
   "cell_type": "markdown",
   "id": "0d9029d9",
   "metadata": {},
   "source": [
    "Lectura y análisis de listings"
   ]
  },
  {
   "cell_type": "code",
   "execution_count": null,
   "id": "d28795bf",
   "metadata": {},
   "outputs": [],
   "source": [
    "listings:pd.DataFrame = extraccion.obtener_datos(\"listado\")\n",
    "\n",
    "print(\"Primeras filas de Listings:\")\n",
    "print(listings.head())\n",
    "\n",
    "print(f\"Número de filas: {listings.shape[0]} \\n columnas en Listings: {listings.shape[1]}\")\n",
    "\n",
    "print(\"Tipos de datos en Listings:\")\n",
    "listings.info()"
   ]
  },
  {
   "cell_type": "markdown",
   "id": "eef38671",
   "metadata": {},
   "source": [
    "Lectura y análisis de reviews"
   ]
  },
  {
   "cell_type": "code",
   "execution_count": null,
   "id": "282b6622",
   "metadata": {},
   "outputs": [],
   "source": [
    "reviews:pd.DataFrame = extraccion.obtener_datos(\"reseñas\")\n",
    "\n",
    "print(\"\\nPrimeras filas de Reviews:\")\n",
    "print(reviews.head())\n",
    "\n",
    "print(f\"Número de filas: {reviews.shape[0]} \\n columnas en Listings: {reviews.shape[1]}\")\n",
    "\n",
    "print(\"Tipos de datos en Reviews:\")\n",
    "reviews.info()"
   ]
  },
  {
   "cell_type": "markdown",
   "id": "4e46e5ab",
   "metadata": {},
   "source": [
    "Lectura y análisis de calendar"
   ]
  },
  {
   "cell_type": "code",
   "execution_count": null,
   "id": "37a8bb72",
   "metadata": {},
   "outputs": [],
   "source": [
    "calendar:pd.DataFrame = extraccion.obtener_datos(\"calendario\")\n",
    "\n",
    "\n",
    "print(\"\\nPrimeras filas de Calendar:\")\n",
    "print(calendar.head())\n",
    "\n",
    "print(f\"Número de filas: {calendar.shape[0]} \\n columnas en Listings: {calendar.shape[1]}\")\n",
    "\n",
    "print(\"Tipos de datos en Calendar:\")\n",
    "calendar.info()"
   ]
  },
  {
   "cell_type": "markdown",
   "id": "84412737",
   "metadata": {},
   "source": [
    "Entendimiento general de los datos"
   ]
  },
  {
   "cell_type": "markdown",
   "id": "fb5ff769",
   "metadata": {},
   "source": [
    "                                Análisis de nulos para cada dataframe"
   ]
  },
  {
   "cell_type": "markdown",
   "id": "c92cc76f",
   "metadata": {},
   "source": [
    "Nulos en listings"
   ]
  },
  {
   "cell_type": "code",
   "execution_count": null,
   "id": "43d5def6",
   "metadata": {},
   "outputs": [],
   "source": [
    "print(\"Valores nulos de listings:\")\n",
    "print(listings.isnull().sum())\n",
    "\n",
    "print(\"\\nAnálisis de valores nulos en Listings:\")\n",
    "valores_nulos_listings = listings.isnull().sum()\n",
    "print(valores_nulos_listings)\n",
    "\n",
    "plt.figure(figsize=(10, 6))\n",
    "valores_nulos_listings[valores_nulos_listings > 0].plot(kind='bar', color='skyblue')\n",
    "plt.title(\"Valores nulos por columna en Listings\")\n",
    "plt.xlabel(\"Columnas\")\n",
    "plt.ylabel(\"Cantidad de valores nulos\")\n",
    "plt.xticks(rotation=45)\n",
    "plt.show()"
   ]
  },
  {
   "cell_type": "markdown",
   "id": "d99e8d1c",
   "metadata": {},
   "source": [
    "Nulos en Reviews"
   ]
  },
  {
   "cell_type": "code",
   "execution_count": null,
   "id": "b6e2bcb3",
   "metadata": {},
   "outputs": [],
   "source": [
    "print(\"\\nAnálisis de valores nulos en Reviews:\")\n",
    "valores_nulos_reviews = reviews.isnull().sum()\n",
    "print(valores_nulos_reviews)\n",
    "\n",
    "plt.figure(figsize=(10, 6))\n",
    "valores_nulos_reviews[valores_nulos_reviews > 0].plot(kind='bar', color='lightgreen')\n",
    "plt.title(\"Valores nulos por columna en Reviews\")\n",
    "plt.xlabel(\"Columnas\")\n",
    "plt.ylabel(\"Cantidad de valores nulos\")\n",
    "plt.xticks(rotation=45)\n",
    "plt.show()"
   ]
  },
  {
   "cell_type": "markdown",
   "id": "d4e2687b",
   "metadata": {},
   "source": [
    "Nulos en Calendar"
   ]
  },
  {
   "cell_type": "code",
   "execution_count": null,
   "id": "b4485663",
   "metadata": {},
   "outputs": [],
   "source": [
    "print(\"\\nAnálisis de valores nulos en Calendar:\")\n",
    "valores_nulos_calendar = calendar.isnull().sum()\n",
    "print(valores_nulos_calendar)\n",
    "\n",
    "plt.figure(figsize=(10, 6))\n",
    "valores_nulos_calendar[valores_nulos_calendar > 0].plot(kind='bar', color='salmon')\n",
    "plt.title(\"Valores nulos por columna en Calendar\")\n",
    "plt.xlabel(\"Columnas\")\n",
    "plt.ylabel(\"Cantidad de valores nulos\")\n",
    "plt.xticks(rotation=45)\n",
    "plt.show()"
   ]
  },
  {
   "cell_type": "markdown",
   "id": "a41a2d1f",
   "metadata": {},
   "source": [
    "Análisis duplicados listings"
   ]
  },
  {
   "cell_type": "code",
   "execution_count": null,
   "id": "a1f1bb46",
   "metadata": {},
   "outputs": [],
   "source": [
    "listingsDuplicate = listings.copy()\n",
    "\n",
    "#Se realizan las conversiones necesarias para evitar errores al buscar duplicados\n",
    "\n",
    "for col in listingsDuplicate.columns:\n",
    "    if listingsDuplicate[col].apply(lambda x: isinstance(x, list)).any():\n",
    "        listingsDuplicate[col] = listingsDuplicate[col].apply(lambda x: str(x) if isinstance(x, list) else x)\n",
    "\n",
    "for col in listingsDuplicate.columns:\n",
    "    if listingsDuplicate[col].apply(lambda x: isinstance(x, Decimal128)).any():\n",
    "        listingsDuplicate[col] = listingsDuplicate[col].apply(lambda x: float(x.to_decimal()) if isinstance(x, Decimal128) else x)\n",
    "\n",
    "print(listingsDuplicate.duplicated().sum())\n",
    "\n",
    "#Para esta colección no eliminamos los duplicados"
   ]
  },
  {
   "cell_type": "markdown",
   "id": "a26b3bd5",
   "metadata": {},
   "source": [
    "Análisis duplicados reviews"
   ]
  },
  {
   "cell_type": "code",
   "execution_count": null,
   "id": "7a9e87a3",
   "metadata": {},
   "outputs": [],
   "source": [
    "print(\"\\nAnálisis de duplicados en Reviews:\")\n",
    "reviewsDuplicate = reviews.copy()\n",
    "\n",
    "for col in reviewsDuplicate.columns:\n",
    "    if reviewsDuplicate[col].apply(lambda x: isinstance(x, list)).any():\n",
    "        reviewsDuplicate[col] = reviewsDuplicate[col].apply(lambda x: str(x) if isinstance(x, list) else x)\n",
    "    if reviewsDuplicate[col].apply(lambda x: isinstance(x, Decimal128)).any():\n",
    "        reviewsDuplicate[col] = reviewsDuplicate[col].apply(lambda x: float(x.to_decimal()) if isinstance(x, Decimal128) else x)\n",
    "\n",
    "duplicados_reviews = reviewsDuplicate.duplicated().sum()\n",
    "print(f\"Duplicados en Reviews: {duplicados_reviews}\")\n",
    "\n",
    "if duplicados_reviews > 0:\n",
    "    reviewsDuplicate.drop_duplicates(inplace=True)\n",
    "    print(\"Duplicados eliminados en Reviews.\")\n",
    "\n",
    "#En esta eliminamos duplicados para no afectar reseñas para los diferentes sitios"
   ]
  },
  {
   "cell_type": "markdown",
   "id": "85926239",
   "metadata": {},
   "source": [
    "Análisis de duplicados para calendar"
   ]
  },
  {
   "cell_type": "code",
   "execution_count": null,
   "id": "f457ba79",
   "metadata": {},
   "outputs": [],
   "source": [
    "print(\"\\nAnálisis de duplicados en Calendar:\")\n",
    "calendarDuplicate = calendar.copy()\n",
    "\n",
    "for col in calendarDuplicate.columns:\n",
    "    if calendarDuplicate[col].apply(lambda x: isinstance(x, list)).any():\n",
    "        calendarDuplicate[col] = calendarDuplicate[col].apply(lambda x: str(x) if isinstance(x, list) else x)\n",
    "    if calendarDuplicate[col].apply(lambda x: isinstance(x, Decimal128)).any():\n",
    "        calendarDuplicate[col] = calendarDuplicate[col].apply(lambda x: float(x.to_decimal()) if isinstance(x, Decimal128) else x)\n",
    "\n",
    "duplicados_calendar = calendarDuplicate.duplicated().sum()\n",
    "print(f\"Duplicados en Calendar: {duplicados_calendar}\")\n",
    "\n",
    "if duplicados_calendar > 0:\n",
    "    calendarDuplicate.drop_duplicates(inplace=True)\n",
    "    print(\"Duplicados eliminados en Calendar.\")\n",
    "\n",
    "#En esta si eliminamos registros duplicados porque estarían alterando análisis "
   ]
  },
  {
   "cell_type": "markdown",
   "id": "e98518c2",
   "metadata": {},
   "source": [
    "Validación de valores atípicos para campos price, minimum_nights, availability_365"
   ]
  },
  {
   "cell_type": "code",
   "execution_count": null,
   "id": "5fa4e315",
   "metadata": {},
   "outputs": [],
   "source": [
    "\n",
    "for columna in [\"price\", \"minimum_nights\", \"availability_365\"]:\n",
    "    if columna in listings.columns:\n",
    "        listings[columna] = pd.to_numeric(listings[columna], errors='coerce')\n",
    "        if listings[columna].isnull().sum() > 0:\n",
    "            print(f\"Advertencia: La columna '{columna}' contiene valores no numéricos. Se convertirán a NaN.\")\n",
    "            print(listings[listings[columna].isnull()])\n",
    "\n"
   ]
  }
 ],
 "metadata": {
  "kernelspec": {
   "display_name": "entornoTaller2 (3.11.3)",
   "language": "python",
   "name": "python3"
  },
  "language_info": {
   "codemirror_mode": {
    "name": "ipython",
    "version": 3
   },
   "file_extension": ".py",
   "mimetype": "text/x-python",
   "name": "python",
   "nbconvert_exporter": "python",
   "pygments_lexer": "ipython3",
   "version": "3.11.3"
  }
 },
 "nbformat": 4,
 "nbformat_minor": 5
}
