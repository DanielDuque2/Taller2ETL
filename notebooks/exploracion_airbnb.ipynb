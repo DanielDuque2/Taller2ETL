{
 "cells": [
  {
   "cell_type": "markdown",
   "id": "3c14175e",
   "metadata": {},
   "source": [
    "Importación de librerias y seteo de variables constantes"
   ]
  },
  {
   "cell_type": "code",
   "execution_count": 8,
   "id": "07e3f17e",
   "metadata": {},
   "outputs": [],
   "source": [
    "import pandas as pd\n",
    "from bson.decimal128 import Decimal128\n",
    "import matplotlib.pyplot as plt\n",
    "import seaborn as sns\n",
    "from sys import path\n",
    "path.append(\"../src\")\n",
    "from extraccion import Extraccion\n",
    "\n",
    "URL = \"mongodb://localhost:27017/\"\n",
    "DATABASE_NAME = \"AirBnbDB\""
   ]
  },
  {
   "cell_type": "markdown",
   "id": "35b44178",
   "metadata": {},
   "source": [
    "Creación de instancia de la clase Extracción y lectura de colecciones para almacenamiento en dataframe"
   ]
  },
  {
   "cell_type": "code",
   "execution_count": 9,
   "id": "6fd056c8",
   "metadata": {},
   "outputs": [
    {
     "name": "stderr",
     "output_type": "stream",
     "text": [
      "2025-10-22 22:15:16 - [INFO] - extraccion - Iniciando ejecución del módulo: extraccion (log: ..\\logs\\log_20251022_2215_extraccion.txt)\n",
      "2025-10-22 22:15:16 - [INFO] - extraccion - Conexión exitosa a la BD: AirBnbDB\n"
     ]
    }
   ],
   "source": [
    "extraccion = Extraccion(URL, DATABASE_NAME)\n",
    "extraccion.conectar()"
   ]
  },
  {
   "cell_type": "markdown",
   "id": "0d9029d9",
   "metadata": {},
   "source": [
    "Lectura y análisis de listings"
   ]
  },
  {
   "cell_type": "code",
   "execution_count": 16,
   "id": "d28795bf",
   "metadata": {},
   "outputs": [
    {
     "name": "stderr",
     "output_type": "stream",
     "text": [
      "2025-10-22 22:35:19 - [INFO] - extraccion - Datos extraídos de 'listado': 26401 registros\n"
     ]
    },
    {
     "name": "stdout",
     "output_type": "stream",
     "text": [
      "Primeras filas de Listings:\n",
      "                        _id     id                         listing_url  \\\n",
      "0  68bc61d98b946416d049daa4  35797  https://www.airbnb.com/rooms/35797   \n",
      "1  68bc61d98b946416d049daa5  44616  https://www.airbnb.com/rooms/44616   \n",
      "2  68bc61d98b946416d049daa6  56074  https://www.airbnb.com/rooms/56074   \n",
      "3  68bc61d98b946416d049daa7  67703  https://www.airbnb.com/rooms/67703   \n",
      "4  68bc61d98b946416d049daa8  70644  https://www.airbnb.com/rooms/70644   \n",
      "\n",
      "        scrape_id last_scraped       source  \\\n",
      "0  20250625031918   2025-06-26  city scrape   \n",
      "1  20250625031918   2025-07-01  city scrape   \n",
      "2  20250625031918   2025-07-01  city scrape   \n",
      "3  20250625031918   2025-07-01  city scrape   \n",
      "4  20250625031918   2025-07-01  city scrape   \n",
      "\n",
      "                                               name  \\\n",
      "0                                       Villa Dante   \n",
      "1                                      Condesa Haus   \n",
      "2              Great space in historical San Rafael   \n",
      "3                 2 bedroom apt. deco bldg, Condesa   \n",
      "4  Beautiful light Studio Coyoacan- full equipped !   \n",
      "\n",
      "                                         description  \\\n",
      "0  Dentro de Villa un estudio de arte con futon, ...   \n",
      "1  A new concept of hosting in mexico through a b...   \n",
      "2  This great apartment is located in one of the ...   \n",
      "3  Comfortably furnished, sunny, 2 bedroom apt., ...   \n",
      "4  COYOACAN designer studio quiet & safe! well eq...   \n",
      "\n",
      "                               neighborhood_overview  \\\n",
      "0  Santa Fe Shopping Mall, Interlomas Park and th...   \n",
      "1                                                NaN   \n",
      "2  Very traditional neighborhood with all service...   \n",
      "3                                                NaN   \n",
      "4  Coyoacan is a beautiful neighborhood famous fo...   \n",
      "\n",
      "                                         picture_url  ...  first_review  \\\n",
      "0  https://a0.muscache.com/pictures/f395ab78-1185...  ...           NaT   \n",
      "1  https://a0.muscache.com/pictures/251410/ec75fe...  ...    2011-11-09   \n",
      "2  https://a0.muscache.com/pictures/3005118/60dac...  ...    2011-04-02   \n",
      "3  https://a0.muscache.com/pictures/3281720/6f078...  ...    2011-11-17   \n",
      "4  https://a0.muscache.com/pictures/f397d2da-d045...  ...    2012-02-14   \n",
      "\n",
      "  last_review review_scores_rating review_scores_accuracy  \\\n",
      "0         NaT                  NaN                    NaN   \n",
      "1  2025-01-01                 4.59                   4.56   \n",
      "2  2025-02-27                 4.87                   4.95   \n",
      "3  2024-10-30                 4.90                   4.82   \n",
      "4  2024-12-28                 4.92                   4.91   \n",
      "\n",
      "  review_scores_cleanliness review_scores_checkin review_scores_communication  \\\n",
      "0                       NaN                   NaN                         NaN   \n",
      "1                      4.70                  4.87                        4.78   \n",
      "2                      4.88                  4.98                        4.94   \n",
      "3                      4.76                  4.94                        4.92   \n",
      "4                      4.96                  4.96                        4.98   \n",
      "\n",
      "  review_scores_location review_scores_value reviews_per_month  \n",
      "0                    NaN                 NaN               NaN  \n",
      "1                   4.98                4.47              0.39  \n",
      "2                   4.76                4.79              0.48  \n",
      "3                   4.98                4.92              0.30  \n",
      "4                   4.96                4.92              0.81  \n",
      "\n",
      "[5 rows x 77 columns]\n",
      "Número de filas: 26401 \n",
      " columnas en Listings: 77\n",
      "Tipos de datos en Listings:\n",
      "<class 'pandas.core.frame.DataFrame'>\n",
      "RangeIndex: 26401 entries, 0 to 26400\n",
      "Data columns (total 77 columns):\n",
      " #   Column                                        Non-Null Count  Dtype         \n",
      "---  ------                                        --------------  -----         \n",
      " 0   _id                                           26401 non-null  object        \n",
      " 1   id                                            26401 non-null  int64         \n",
      " 2   listing_url                                   26401 non-null  object        \n",
      " 3   scrape_id                                     26401 non-null  int64         \n",
      " 4   last_scraped                                  26401 non-null  datetime64[ns]\n",
      " 5   source                                        26401 non-null  object        \n",
      " 6   name                                          26401 non-null  object        \n",
      " 7   description                                   25633 non-null  object        \n",
      " 8   neighborhood_overview                         13970 non-null  object        \n",
      " 9   picture_url                                   26401 non-null  object        \n",
      " 10  host_id                                       26401 non-null  int64         \n",
      " 11  host_url                                      26401 non-null  object        \n",
      " 12  host_name                                     25544 non-null  object        \n",
      " 13  host_since                                    25487 non-null  datetime64[ns]\n",
      " 14  host_location                                 20164 non-null  object        \n",
      " 15  host_about                                    15164 non-null  object        \n",
      " 16  host_response_time                            25487 non-null  object        \n",
      " 17  host_response_rate                            25487 non-null  object        \n",
      " 18  host_acceptance_rate                          25487 non-null  object        \n",
      " 19  host_is_superhost                             25042 non-null  object        \n",
      " 20  host_thumbnail_url                            25487 non-null  object        \n",
      " 21  host_picture_url                              25487 non-null  object        \n",
      " 22  host_listings_count                           25487 non-null  float64       \n",
      " 23  host_total_listings_count                     25487 non-null  float64       \n",
      " 24  host_verifications                            26401 non-null  object        \n",
      " 25  host_has_profile_pic                          25487 non-null  object        \n",
      " 26  host_identity_verified                        25487 non-null  object        \n",
      " 27  neighbourhood                                 13970 non-null  object        \n",
      " 28  neighbourhood_cleansed                        26401 non-null  object        \n",
      " 29  latitude                                      26401 non-null  float64       \n",
      " 30  longitude                                     26401 non-null  float64       \n",
      " 31  property_type                                 26401 non-null  object        \n",
      " 32  room_type                                     26401 non-null  object        \n",
      " 33  accommodates                                  26401 non-null  int64         \n",
      " 34  bathrooms                                     23120 non-null  float64       \n",
      " 35  bathrooms_text                                26370 non-null  object        \n",
      " 36  bedrooms                                      25477 non-null  float64       \n",
      " 37  beds                                          23104 non-null  float64       \n",
      " 38  amenities                                     26401 non-null  object        \n",
      " 39  price                                         23127 non-null  object        \n",
      " 40  minimum_nights                                26401 non-null  int64         \n",
      " 41  maximum_nights                                26401 non-null  int64         \n",
      " 42  minimum_minimum_nights                        26381 non-null  float64       \n",
      " 43  maximum_minimum_nights                        26381 non-null  float64       \n",
      " 44  minimum_maximum_nights                        26381 non-null  float64       \n",
      " 45  maximum_maximum_nights                        26381 non-null  float64       \n",
      " 46  minimum_nights_avg_ntm                        26401 non-null  float64       \n",
      " 47  maximum_nights_avg_ntm                        26401 non-null  float64       \n",
      " 48  has_availability                              25401 non-null  object        \n",
      " 49  availability_30                               26401 non-null  int64         \n",
      " 50  availability_60                               26401 non-null  int64         \n",
      " 51  availability_90                               26401 non-null  int64         \n",
      " 52  availability_365                              26401 non-null  int64         \n",
      " 53  calendar_last_scraped                         26401 non-null  datetime64[ns]\n",
      " 54  number_of_reviews                             26401 non-null  int64         \n",
      " 55  number_of_reviews_ltm                         26401 non-null  int64         \n",
      " 56  number_of_reviews_l30d                        26401 non-null  int64         \n",
      " 57  availability_eoy                              26401 non-null  int64         \n",
      " 58  number_of_reviews_ly                          26401 non-null  int64         \n",
      " 59  estimated_occupancy_l365d                     26401 non-null  int64         \n",
      " 60  estimated_revenue_l365d                       23127 non-null  float64       \n",
      " 61  instant_bookable                              26401 non-null  bool          \n",
      " 62  calculated_host_listings_count                26401 non-null  int64         \n",
      " 63  calculated_host_listings_count_entire_homes   26401 non-null  int64         \n",
      " 64  calculated_host_listings_count_private_rooms  26401 non-null  int64         \n",
      " 65  calculated_host_listings_count_shared_rooms   26401 non-null  int64         \n",
      " 66  host_neighbourhood                            13570 non-null  object        \n",
      " 67  first_review                                  23028 non-null  datetime64[ns]\n",
      " 68  last_review                                   23028 non-null  datetime64[ns]\n",
      " 69  review_scores_rating                          23028 non-null  float64       \n",
      " 70  review_scores_accuracy                        23026 non-null  float64       \n",
      " 71  review_scores_cleanliness                     23026 non-null  float64       \n",
      " 72  review_scores_checkin                         23026 non-null  float64       \n",
      " 73  review_scores_communication                   23026 non-null  float64       \n",
      " 74  review_scores_location                        23026 non-null  float64       \n",
      " 75  review_scores_value                           23026 non-null  float64       \n",
      " 76  reviews_per_month                             23028 non-null  object        \n",
      "dtypes: bool(1), datetime64[ns](5), float64(21), int64(20), object(30)\n",
      "memory usage: 15.3+ MB\n"
     ]
    }
   ],
   "source": [
    "listings:pd.DataFrame = extraccion.obtener_datos(\"listado\")\n",
    "\n",
    "print(\"Primeras filas de Listings:\")\n",
    "print(listings.head())\n",
    "\n",
    "print(f\"Número de filas: {listings.shape[0]} \\n columnas en Listings: {listings.shape[1]}\")\n",
    "\n",
    "print(\"Tipos de datos en Listings:\")\n",
    "listings.info()"
   ]
  },
  {
   "cell_type": "markdown",
   "id": "eef38671",
   "metadata": {},
   "source": [
    "Lectura y análisis de reviews"
   ]
  },
  {
   "cell_type": "code",
   "execution_count": 11,
   "id": "282b6622",
   "metadata": {},
   "outputs": [
    {
     "name": "stdout",
     "output_type": "stream",
     "text": [
      "\n",
      "Primeras filas de Reviews:\n",
      "                        _id  listing_id        id       date  reviewer_id  \\\n",
      "0  68bc62608b946416d04a41c5    10257549  59265221 2016-01-08     31043833   \n",
      "1  68bc62608b946416d04a41c6    10257549  59352234 2016-01-09      7248934   \n",
      "2  68bc62608b946416d04a41c7    10257549  59456981 2016-01-10     52707457   \n",
      "3  68bc62608b946416d04a41c8    10257549  59661086 2016-01-13     52989229   \n",
      "4  68bc62608b946416d04a41c9    10257549  59806795 2016-01-15     51159033   \n",
      "\n",
      "  reviewer_name                                           comments  \n",
      "0       Karolis  The flat is very nice newly renovated. The hos...  \n",
      "1         James  Benito and his wife were great guests. Perfect...  \n",
      "2        Manuel  Fue algo express. No pude volar y contacté con...  \n",
      "3         Annie  This was a very comfortable and conveniently l...  \n",
      "4        Svenja  Nice place, really close to te airport - Nice ...  \n",
      "Número de filas: 1388226 \n",
      " columnas en Listings: 7\n",
      "Tipos de datos en Reviews:\n",
      "<class 'pandas.core.frame.DataFrame'>\n",
      "RangeIndex: 1388226 entries, 0 to 1388225\n",
      "Data columns (total 7 columns):\n",
      " #   Column         Non-Null Count    Dtype         \n",
      "---  ------         --------------    -----         \n",
      " 0   _id            1388226 non-null  object        \n",
      " 1   listing_id     1388226 non-null  int64         \n",
      " 2   id             1388226 non-null  int64         \n",
      " 3   date           1388226 non-null  datetime64[ns]\n",
      " 4   reviewer_id    1388226 non-null  int64         \n",
      " 5   reviewer_name  1388218 non-null  object        \n",
      " 6   comments       1388226 non-null  object        \n",
      "dtypes: datetime64[ns](1), int64(3), object(3)\n",
      "memory usage: 74.1+ MB\n"
     ]
    }
   ],
   "source": [
    "reviews:pd.DataFrame = extraccion.obtener_datos(\"reseñas\")\n",
    "\n",
    "print(\"\\nPrimeras filas de Reviews:\")\n",
    "print(reviews.head())\n",
    "\n",
    "print(f\"Número de filas: {reviews.shape[0]} \\n columnas en Listings: {reviews.shape[1]}\")\n",
    "\n",
    "print(\"Tipos de datos en Reviews:\")\n",
    "reviews.info()"
   ]
  },
  {
   "cell_type": "markdown",
   "id": "4e46e5ab",
   "metadata": {},
   "source": [
    "Lectura y análisis de calendar"
   ]
  },
  {
   "cell_type": "code",
   "execution_count": 12,
   "id": "37a8bb72",
   "metadata": {},
   "outputs": [
    {
     "name": "stdout",
     "output_type": "stream",
     "text": [
      "\n",
      "Primeras filas de Calendar:\n",
      "                        _id  listing_id       date  available  minimum_nights  \\\n",
      "0  68bc5f0e8b946416d0b6d095       35797 2025-06-26      False               1   \n",
      "1  68bc5f0e8b946416d0b6d096       35797 2025-06-27       True               1   \n",
      "2  68bc5f0e8b946416d0b6d097       35797 2025-06-28       True               1   \n",
      "3  68bc5f0e8b946416d0b6d098       35797 2025-06-29       True               1   \n",
      "4  68bc5f0e8b946416d0b6d099       35797 2025-06-30       True               1   \n",
      "\n",
      "   maximum_nights  \n",
      "0               7  \n",
      "1               7  \n",
      "2               7  \n",
      "3               7  \n",
      "4               7  \n",
      "Número de filas: 9636365 \n",
      " columnas en Listings: 6\n",
      "Tipos de datos en Calendar:\n",
      "<class 'pandas.core.frame.DataFrame'>\n",
      "RangeIndex: 9636365 entries, 0 to 9636364\n",
      "Data columns (total 6 columns):\n",
      " #   Column          Dtype         \n",
      "---  ------          -----         \n",
      " 0   _id             object        \n",
      " 1   listing_id      int64         \n",
      " 2   date            datetime64[ns]\n",
      " 3   available       bool          \n",
      " 4   minimum_nights  int64         \n",
      " 5   maximum_nights  int64         \n",
      "dtypes: bool(1), datetime64[ns](1), int64(3), object(1)\n",
      "memory usage: 376.8+ MB\n"
     ]
    }
   ],
   "source": [
    "calendar:pd.DataFrame = extraccion.obtener_datos(\"calendario\")\n",
    "\n",
    "\n",
    "print(\"\\nPrimeras filas de Calendar:\")\n",
    "print(calendar.head())\n",
    "\n",
    "print(f\"Número de filas: {calendar.shape[0]} \\n columnas en Listings: {calendar.shape[1]}\")\n",
    "\n",
    "print(\"Tipos de datos en Calendar:\")\n",
    "calendar.info()"
   ]
  },
  {
   "cell_type": "markdown",
   "id": "84412737",
   "metadata": {},
   "source": [
    "Entendimiento general de los datos"
   ]
  },
  {
   "cell_type": "markdown",
   "id": "fb5ff769",
   "metadata": {},
   "source": [
    "                                Análisis de nulos para cada dataframe"
   ]
  },
  {
   "cell_type": "markdown",
   "id": "c92cc76f",
   "metadata": {},
   "source": [
    "Nulos en listings"
   ]
  },
  {
   "cell_type": "code",
   "execution_count": 6,
   "id": "43d5def6",
   "metadata": {},
   "outputs": [
    {
     "name": "stdout",
     "output_type": "stream",
     "text": [
      "Valores nulos de listings:\n",
      "_id                               0\n",
      "id                                0\n",
      "listing_url                       0\n",
      "scrape_id                         0\n",
      "last_scraped                      0\n",
      "                               ... \n",
      "review_scores_checkin          3375\n",
      "review_scores_communication    3375\n",
      "review_scores_location         3375\n",
      "review_scores_value            3375\n",
      "reviews_per_month              3373\n",
      "Length: 77, dtype: int64\n",
      "\n",
      "Análisis de valores nulos en Listings:\n",
      "_id                               0\n",
      "id                                0\n",
      "listing_url                       0\n",
      "scrape_id                         0\n",
      "last_scraped                      0\n",
      "                               ... \n",
      "review_scores_checkin          3375\n",
      "review_scores_communication    3375\n",
      "review_scores_location         3375\n",
      "review_scores_value            3375\n",
      "reviews_per_month              3373\n",
      "Length: 77, dtype: int64\n"
     ]
    },
    {
     "data": {
      "image/png": "[encoded data removed]",
      "text/plain": [
       "<Figure size 1000x600 with 1 Axes>"
      ]
     },
     "metadata": {},
     "output_type": "display_data"
    }
   ],
   "source": [
    "print(\"Valores nulos de listings:\")\n",
    "print(listings.isnull().sum())\n",
    "\n",
    "print(\"\\nAnálisis de valores nulos en Listings:\")\n",
    "valores_nulos_listings = listings.isnull().sum()\n",
    "print(valores_nulos_listings)\n",
    "\n",
    "plt.figure(figsize=(10, 6))\n",
    "valores_nulos_listings[valores_nulos_listings > 0].plot(kind='bar', color='skyblue')\n",
    "plt.title(\"Valores nulos por columna en Listings\")\n",
    "plt.xlabel(\"Columnas\")\n",
    "plt.ylabel(\"Cantidad de valores nulos\")\n",
    "plt.xticks(rotation=45)\n",
    "plt.show()"
   ]
  },
  {
   "cell_type": "markdown",
   "id": "d99e8d1c",
   "metadata": {},
   "source": [
    "Nulos en Reviews"
   ]
  },
  {
   "cell_type": "code",
   "execution_count": 7,
   "id": "b6e2bcb3",
   "metadata": {},
   "outputs": [
    {
     "name": "stdout",
     "output_type": "stream",
     "text": [
      "\n",
      "Análisis de valores nulos en Reviews:\n",
      "_id              0\n",
      "listing_id       0\n",
      "id               0\n",
      "date             0\n",
      "reviewer_id      0\n",
      "reviewer_name    8\n",
      "comments         0\n",
      "dtype: int64\n"
     ]
    },
    {
     "data": {
      "image/png": "[encoded data removed]",
      "text/plain": [
       "<Figure size 1000x600 with 1 Axes>"
      ]
     },
     "metadata": {},
     "output_type": "display_data"
    }
   ],
   "source": [
    "print(\"\\nAnálisis de valores nulos en Reviews:\")\n",
    "valores_nulos_reviews = reviews.isnull().sum()\n",
    "print(valores_nulos_reviews)\n",
    "\n",
    "plt.figure(figsize=(10, 6))\n",
    "valores_nulos_reviews[valores_nulos_reviews > 0].plot(kind='bar', color='lightgreen')\n",
    "plt.title(\"Valores nulos por columna en Reviews\")\n",
    "plt.xlabel(\"Columnas\")\n",
    "plt.ylabel(\"Cantidad de valores nulos\")\n",
    "plt.xticks(rotation=45)\n",
    "plt.show()"
   ]
  },
  {
   "cell_type": "markdown",
   "id": "d4e2687b",
   "metadata": {},
   "source": [
    "Nulos en Calendar"
   ]
  },
  {
   "cell_type": "code",
   "execution_count": 18,
   "id": "b4485663",
   "metadata": {},
   "outputs": [
    {
     "name": "stdout",
     "output_type": "stream",
     "text": [
      "\n",
      "Análisis de valores nulos en Calendar:\n",
      "_id               0\n",
      "listing_id        0\n",
      "date              0\n",
      "available         0\n",
      "minimum_nights    0\n",
      "maximum_nights    0\n",
      "dtype: int64\n",
      "No existen valores nulos dentro del dataframe\n"
     ]
    }
   ],
   "source": [
    "print(\"\\nAnálisis de valores nulos en Calendar:\")\n",
    "valores_nulos_calendar = calendar.isnull().sum()\n",
    "print(valores_nulos_calendar)\n",
    "if valores_nulos_calendar.sum():\n",
    "    plt.figure(figsize=(10, 6))\n",
    "    valores_nulos_calendar[valores_nulos_calendar > 0].plot(kind='bar', color='salmon')\n",
    "    plt.title(\"Valores nulos por columna en Calendar\")\n",
    "    plt.xlabel(\"Columnas\")\n",
    "    plt.ylabel(\"Cantidad de valores nulos\")\n",
    "    plt.xticks(rotation=45)\n",
    "    plt.show()\n",
    "else:\n",
    "    print(\"No existen valores nulos dentro del dataframe\")"
   ]
  },
  {
   "cell_type": "markdown",
   "id": "a41a2d1f",
   "metadata": {},
   "source": [
    "Análisis duplicados listings"
   ]
  },
  {
   "cell_type": "code",
   "execution_count": 9,
   "id": "a1f1bb46",
   "metadata": {},
   "outputs": [
    {
     "name": "stdout",
     "output_type": "stream",
     "text": [
      "0\n"
     ]
    }
   ],
   "source": [
    "listingsDuplicate = listings.copy()\n",
    "\n",
    "#Se realizan las conversiones necesarias para evitar errores al buscar duplicados\n",
    "\n",
    "for col in listingsDuplicate.columns:\n",
    "    if listingsDuplicate[col].apply(lambda x: isinstance(x, list)).any():\n",
    "        listingsDuplicate[col] = listingsDuplicate[col].apply(lambda x: str(x) if isinstance(x, list) else x)\n",
    "\n",
    "for col in listingsDuplicate.columns:\n",
    "    if listingsDuplicate[col].apply(lambda x: isinstance(x, Decimal128)).any():\n",
    "        listingsDuplicate[col] = listingsDuplicate[col].apply(lambda x: float(x.to_decimal()) if isinstance(x, Decimal128) else x)\n",
    "\n",
    "print(listingsDuplicate.duplicated().sum())\n",
    "\n",
    "#Para esta colección no eliminamos los duplicados"
   ]
  },
  {
   "cell_type": "markdown",
   "id": "a26b3bd5",
   "metadata": {},
   "source": [
    "Análisis duplicados reviews"
   ]
  },
  {
   "cell_type": "code",
   "execution_count": 13,
   "id": "7a9e87a3",
   "metadata": {},
   "outputs": [
    {
     "name": "stdout",
     "output_type": "stream",
     "text": [
      "Duplicados en Reviews: 0\n"
     ]
    }
   ],
   "source": [
    "reviewsDuplicate = reviews.copy()\n",
    "\n",
    "for col in reviewsDuplicate.columns:\n",
    "    if reviewsDuplicate[col].apply(lambda x: isinstance(x, list)).any():\n",
    "        reviewsDuplicate[col] = reviewsDuplicate[col].apply(lambda x: str(x) if isinstance(x, list) else x)\n",
    "    if reviewsDuplicate[col].apply(lambda x: isinstance(x, Decimal128)).any():\n",
    "        reviewsDuplicate[col] = reviewsDuplicate[col].apply(lambda x: float(x.to_decimal()) if isinstance(x, Decimal128) else x)\n",
    "\n",
    "duplicados_reviews = reviewsDuplicate.duplicated().sum()\n",
    "print(f\"Duplicados en Reviews: {duplicados_reviews}\")\n",
    "\n",
    "if duplicados_reviews > 0:\n",
    "    reviewsDuplicate.drop_duplicates(inplace=True)\n",
    "    print(\"Duplicados eliminados en Reviews.\")\n",
    "\n",
    "#En esta eliminamos duplicados para no afectar reseñas para los diferentes sitios"
   ]
  },
  {
   "cell_type": "markdown",
   "id": "85926239",
   "metadata": {},
   "source": [
    "Análisis de duplicados para calendar"
   ]
  },
  {
   "cell_type": "code",
   "execution_count": 14,
   "id": "f457ba79",
   "metadata": {},
   "outputs": [
    {
     "name": "stdout",
     "output_type": "stream",
     "text": [
      "\n",
      "Análisis de duplicados en Calendar:\n",
      "Duplicados en Calendar: 0\n"
     ]
    }
   ],
   "source": [
    "calendarDuplicate = calendar.copy()\n",
    "\n",
    "for col in calendarDuplicate.columns:\n",
    "    if calendarDuplicate[col].apply(lambda x: isinstance(x, list)).any():\n",
    "        calendarDuplicate[col] = calendarDuplicate[col].apply(lambda x: str(x) if isinstance(x, list) else x)\n",
    "    if calendarDuplicate[col].apply(lambda x: isinstance(x, Decimal128)).any():\n",
    "        calendarDuplicate[col] = calendarDuplicate[col].apply(lambda x: float(x.to_decimal()) if isinstance(x, Decimal128) else x)\n",
    "\n",
    "duplicados_calendar = calendarDuplicate.duplicated().sum()\n",
    "print(f\"Duplicados en Calendar: {duplicados_calendar}\")\n",
    "\n",
    "if duplicados_calendar > 0:\n",
    "    calendarDuplicate.drop_duplicates(inplace=True)\n",
    "    print(\"Duplicados eliminados en Calendar.\")\n",
    "\n",
    "#En esta si eliminamos registros duplicados porque estarían alterando análisis "
   ]
  },
  {
   "cell_type": "markdown",
   "id": "e98518c2",
   "metadata": {},
   "source": [
    "Validación de valores atípicos para campos price, minimum_nights, availability_365"
   ]
  },
  {
   "cell_type": "code",
   "execution_count": 36,
   "id": "956a34cd-8482-45af-9a26-763431b83ece",
   "metadata": {},
   "outputs": [
    {
     "name": "stdout",
     "output_type": "stream",
     "text": [
      "3274\n",
      "Advertencia: La columna 'price' contiene valores no numéricos. Se convertirán a NaN.\n",
      "                            _id                   id  \\\n",
      "5      68bc61d98b946416d049daa9               131610   \n",
      "9      68bc61d98b946416d049daad               187030   \n",
      "14     68bc61d98b946416d049dab2              1378164   \n",
      "19     68bc61d98b946416d049dab7               187745   \n",
      "20     68bc61d98b946416d049dab8               194937   \n",
      "...                         ...                  ...   \n",
      "25556  68bc61e18b946416d04a3e78  1421736226099612779   \n",
      "25567  68bc61e18b946416d04a3e83  1419678752493034294   \n",
      "25631  68bc61e18b946416d04a3ec3  1424075947431136129   \n",
      "25672  68bc61e18b946416d04a3eec  1424926351497713949   \n",
      "25774  68bc61e18b946416d04a3f52  1426844156042550885   \n",
      "\n",
      "                                            listing_url       scrape_id  \\\n",
      "5                   https://www.airbnb.com/rooms/131610  20250625031918   \n",
      "9                   https://www.airbnb.com/rooms/187030  20250625031918   \n",
      "14                 https://www.airbnb.com/rooms/1378164  20250625031918   \n",
      "19                  https://www.airbnb.com/rooms/187745  20250625031918   \n",
      "20                  https://www.airbnb.com/rooms/194937  20250625031918   \n",
      "...                                                 ...             ...   \n",
      "25556  https://www.airbnb.com/rooms/1421736226099612779  20250625031918   \n",
      "25567  https://www.airbnb.com/rooms/1419678752493034294  20250625031918   \n",
      "25631  https://www.airbnb.com/rooms/1424075947431136129  20250625031918   \n",
      "25672  https://www.airbnb.com/rooms/1424926351497713949  20250625031918   \n",
      "25774  https://www.airbnb.com/rooms/1426844156042550885  20250625031918   \n",
      "\n",
      "      last_scraped           source  \\\n",
      "5       2025-07-01  previous scrape   \n",
      "9       2025-07-01  previous scrape   \n",
      "14      2025-07-01  previous scrape   \n",
      "19      2025-07-01  previous scrape   \n",
      "20      2025-07-01  previous scrape   \n",
      "...            ...              ...   \n",
      "25556   2025-07-01  previous scrape   \n",
      "25567   2025-07-01  previous scrape   \n",
      "25631   2025-07-01  previous scrape   \n",
      "25672   2025-07-01  previous scrape   \n",
      "25774   2025-07-01  previous scrape   \n",
      "\n",
      "                                                  name  \\\n",
      "5                                       MARIA DEL ALMA   \n",
      "9        Spacious apt with the best rooftop in Condesa   \n",
      "14          Prívate apartment next to public transport   \n",
      "19            Extraordinarily Spacious Apt. in Condesa   \n",
      "20     Sunny & Fresh Apt. with best rooftop in Condesa   \n",
      "...                                                ...   \n",
      "25556                 Departamento en Ciudad de México   \n",
      "25567                  Alojamiento en Roma norte, CDMX   \n",
      "25631                                 3 baja casa roma   \n",
      "25672                  Depto. Estadio GNP y La Central   \n",
      "25774                   Casa amueblada, lista para ti.   \n",
      "\n",
      "                                             description  \\\n",
      "5                                                    NaN   \n",
      "9      This is a lovely apartment in Condesa.  You'll...   \n",
      "14     Ample apartment with a garage and access to th...   \n",
      "19     HE NEIGHBORHOOD<br /><br />Condesa is the plac...   \n",
      "20     This is a lovely one bedroom - one bathroom ap...   \n",
      "...                                                  ...   \n",
      "25556                                                NaN   \n",
      "25567  Enjoy the simplicity of this quiet and central...   \n",
      "25631  Very nice apartment, recently remodeled, locat...   \n",
      "25672  Modern and equipped apartment minutes from the...   \n",
      "25774  Your new home awaits!<br />I rent a beautiful ...   \n",
      "\n",
      "                                   neighborhood_overview  \\\n",
      "5                                                    NaN   \n",
      "9      Condesa is the place to be in Mexico City. Oft...   \n",
      "14     There is a park a few streets away with a runn...   \n",
      "19     Condesa is the place to be in Mexico City. Oft...   \n",
      "20                                                   NaN   \n",
      "...                                                  ...   \n",
      "25556                                                NaN   \n",
      "25567                                                NaN   \n",
      "25631                                                NaN   \n",
      "25672                                                NaN   \n",
      "25774                                                NaN   \n",
      "\n",
      "                                             picture_url  ...  first_review  \\\n",
      "5      https://a0.muscache.com/pictures/837085/b9ed71...  ...           NaT   \n",
      "9      https://a0.muscache.com/pictures/0a74f125-df00...  ...    2011-11-01   \n",
      "14     https://a0.muscache.com/pictures/fa93669a-6e1f...  ...    2018-09-22   \n",
      "19     https://a0.muscache.com/pictures/c4d9a98f-119b...  ...    2013-11-10   \n",
      "20     https://a0.muscache.com/pictures/ccfc0ea0-e168...  ...    2011-12-07   \n",
      "...                                                  ...  ...           ...   \n",
      "25556  https://a0.muscache.com/pictures/miso/Hosting-...  ...           NaT   \n",
      "25567  https://a0.muscache.com/pictures/miso/Hosting-...  ...           NaT   \n",
      "25631  https://a0.muscache.com/pictures/hosting/Hosti...  ...    2025-05-28   \n",
      "25672  https://a0.muscache.com/pictures/miso/Hosting-...  ...           NaT   \n",
      "25774  https://a0.muscache.com/pictures/hosting/Hosti...  ...    2025-06-04   \n",
      "\n",
      "      last_review review_scores_rating review_scores_accuracy  \\\n",
      "5             NaT                  NaN                    NaN   \n",
      "9      2023-09-08                 4.57                   4.66   \n",
      "14     2022-04-02                 4.58                   4.69   \n",
      "19     2018-01-03                 4.67                   4.58   \n",
      "20     2024-07-08                 4.71                   4.71   \n",
      "...           ...                  ...                    ...   \n",
      "25556         NaT                  NaN                    NaN   \n",
      "25567         NaT                  NaN                    NaN   \n",
      "25631  2025-06-15                 2.80                   2.80   \n",
      "25672         NaT                  NaN                    NaN   \n",
      "25774  2025-06-04                 4.00                   4.00   \n",
      "\n",
      "      review_scores_cleanliness review_scores_checkin  \\\n",
      "5                           NaN                   NaN   \n",
      "9                          4.66                  4.83   \n",
      "14                         4.17                  4.83   \n",
      "19                         4.58                  4.83   \n",
      "20                         4.81                  4.88   \n",
      "...                         ...                   ...   \n",
      "25556                       NaN                   NaN   \n",
      "25567                       NaN                   NaN   \n",
      "25631                      2.80                  3.40   \n",
      "25672                       NaN                   NaN   \n",
      "25774                      4.00                  4.00   \n",
      "\n",
      "      review_scores_communication review_scores_location review_scores_value  \\\n",
      "5                             NaN                    NaN                 NaN   \n",
      "9                            4.88                   4.92                4.50   \n",
      "14                           4.67                   4.67                4.42   \n",
      "19                           4.79                   5.00                4.63   \n",
      "20                           5.00                   4.96                4.69   \n",
      "...                           ...                    ...                 ...   \n",
      "25556                         NaN                    NaN                 NaN   \n",
      "25567                         NaN                    NaN                 NaN   \n",
      "25631                        3.80                   4.20                2.60   \n",
      "25672                         NaN                    NaN                 NaN   \n",
      "25774                        4.00                   4.00                4.00   \n",
      "\n",
      "      reviews_per_month  \n",
      "5                   NaN  \n",
      "9                  0.62  \n",
      "14                 0.44  \n",
      "19                 0.17  \n",
      "20                 0.47  \n",
      "...                 ...  \n",
      "25556               NaN  \n",
      "25567               NaN  \n",
      "25631              4.29  \n",
      "25672               NaN  \n",
      "25774                 1  \n",
      "\n",
      "[3274 rows x 77 columns]\n"
     ]
    }
   ],
   "source": [
    "listings['price'] = (listings['price'].str.replace('$', '', regex=False).str.replace(',', '', regex=False).astype(float))\n",
    "\n",
    "for columna in [\"price\", \"minimum_nights\", \"availability_365\"]:\n",
    "    if columna in listings.columns:\n",
    "        listings[columna] = pd.to_numeric(listings[columna], errors='coerce')\n",
    "        if listings[columna].isnull().sum() > 0:\n",
    "            print(listings[columna].isnull().sum())\n",
    "            print(f\"Advertencia: La columna '{columna}' contiene valores no numéricos. Se convertirán a NaN.\")\n",
    "            print(listings[listings[columna].isnull()])"
   ]
  },
  {
   "cell_type": "markdown",
   "id": "3aff578c-f5fa-4072-96dd-8c5526c5f38a",
   "metadata": {},
   "source": [
    "### Hallazgos dentro de colecciones AirBnb"
   ]
  },
  {
   "cell_type": "markdown",
   "id": "24f92993-56cd-42ea-9c31-acf009eceeb7",
   "metadata": {},
   "source": [
    "Hemos encontrado lo siguiente: <br>\n",
    "    <br>1. La cantidad de nulos dentro de la colección de listing corresponde a campos que podrían servir para realizar análisis sobre las reseñas que reciben cada uno de los host u hospedajes, pero teniendo en cuenta que contamos con una colección de reseñas los análisis se pueden realizar tomando la información de esa colección.\n",
    "    <br>2. Para la colección de reseñas contamos con muy pocos nulos correspondientes al nombre de la persona, no tomamos en cuenta estos nulos, ya que, al ser nombres que muchas veces son sólo primer nombre, es complejo realizar agrupación por el mismo. Dándole importancia a campos que si nos generan valor y no poseen nulos.\n",
    "    <br>3. Para la colección de calendar no encontramos nulos, debido que, esta colección almacena las fechas donde un hospedaje estuvo reservado o disponible, contando así con fechas diferentes para cada hospedaje.\n",
    "    <br>4. Para las diferentes colecciones encontramos que no existen duplicados en las mismas, la data con la que se cuenta se encuentra procesada y lista para ser analizada.\n",
    "    <br>5. Luego de realizar el análisis a las columnas \"price\", \"minimum_nights\" y \"availability_365\", se detectó que 3274 registros no contienen la columna precio. Las demás columnas poseen la información en el formato deseado<br>"
   ]
  }
 ],
 "metadata": {
  "kernelspec": {
   "display_name": "Python 3 (ipykernel)",
   "language": "python",
   "name": "python3"
  },
  "language_info": {
   "codemirror_mode": {
    "name": "ipython",
    "version": 3
   },
   "file_extension": ".py",
   "mimetype": "text/x-python",
   "name": "python",
   "nbconvert_exporter": "python",
   "pygments_lexer": "ipython3",
   "version": "3.12.3"
  }
 },
 "nbformat": 4,
 "nbformat_minor": 5
}
